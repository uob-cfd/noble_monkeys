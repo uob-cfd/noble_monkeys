{
 "cells": [
  {
   "cell_type": "markdown",
   "id": "ca3aa702",
   "metadata": {},
   "source": [
    "# Noble monkeys"
   ]
  },
  {
   "cell_type": "code",
   "execution_count": null,
   "id": "f2470894",
   "metadata": {},
   "outputs": [],
   "source": [
    "# Don't change this cell; just run it.\n",
    "import numpy as np  # The array library.\n",
    "import pandas as pd\n",
    "# Safe settings for Pandas.\n",
    "pd.set_option('mode.chained_assignment', 'raise')\n",
    "\n",
    "import matplotlib.pyplot as plt\n",
    "%matplotlib inline\n",
    "plt.style.use('fivethirtyeight')\n",
    "\n",
    "# The OKpy testing system.\n",
    "from client.api.notebook import Notebook\n",
    "ok = Notebook('noble_monkeys.ok')"
   ]
  },
  {
   "cell_type": "markdown",
   "id": "1d4e8c40",
   "metadata": {},
   "source": [
    "We are in the middle of a COVID-19 pandemic, and we have the task of deciding\n",
    "whether the Moderna vaccine\n",
    "[mRNA-1273](https://en.wikipedia.org/wiki/Moderna#COVID-19_vaccine_candidate)\n",
    "is effective or not.\n",
    "\n",
    "The full clinical trials are not yet out, but we have some [data from a study\n",
    "on rhesus macaque\n",
    "monkeys](https://www.nejm.org/doi/full/10.1056/NEJMoa2024671).\n",
    "\n",
    "There were three groups of monkeys in the study.   All monkeys in each group\n",
    "had got two injections of their allocated vaccination type, four weeks apart.\n",
    "Their vaccination types were:\n",
    "\n",
    "* **High-dose vaccine** (HDV) - 100 micrograms of the vaccine - 8 monkeys.\n",
    "* **Low-dose vaccine** (LDV) - 10 micrograms of the vaccine - 8 monkeys.\n",
    "* **Placebo** (PLAC) - salt water - 8 monkeys.\n",
    "\n",
    "Four weeks after their second vaccination, the team infected each monkey with\n",
    "COVID-19, and then measured various aspects of their response.\n",
    "\n",
    "The researchers used a test called \"subgenomic RNA\" as an estimate of the\n",
    "extent which the virus was replicating.  In this case, we will use their\n",
    "measure as a simple indication whether they could detect viral replication or\n",
    "not.  These are the results from analysis of swabs from the monkeys' noses 2 days after infection:\n",
    "\n",
    "* HDV group : 0 / 8 detectable viral replication.\n",
    "* LDV group : 5 / 8 detectable viral replication.\n",
    "* PLAC group : 6 / 8 detectable viral replication.\n",
    "\n",
    "You can confirm these numbers for yourself from the paper's [supplementary\n",
    "Appendix 2\n",
    "spreadsheet](https://www.nejm.org/doi/suppl/10.1056/NEJMoa2024671/suppl_file/nejmoa2024671_appendix_2.xlsx).\n",
    "\n",
    "For the moment, let us concentrate on question as to whether the vaccine can\n",
    "be effective, and therefore, whether we are convinced by a difference between\n",
    "HDV and PLAC.\n",
    "\n",
    "We will therefore drop the LDV group for now, and only consider the 16 monkeys\n",
    "who were in either of the HDV or the PLAC groups."
   ]
  },
  {
   "cell_type": "markdown",
   "id": "0b078645",
   "metadata": {},
   "source": [
    "## Recreating the data before shuffling.\n",
    "\n",
    "The list of numbers out of 8, above, are summaries of the data.  For the\n",
    "actual data of interest, there were 16 monkeys, each with two labels.  The\n",
    "labels for each monkey are:\n",
    "\n",
    "* Treatment group - one of \"HDV\" or \"PLAC\".\n",
    "* Virus detected - one of \"Yes\" or \"No\".\n",
    "\n",
    "Our observed statistic then, is that 6 monkeys are in the group defined by\n",
    "having these two labels: \"PLAC\" and \"Yes\".\n",
    "\n",
    "We want to know whether a value this large is likely, in the ideal, null world\n",
    "where the Virus detected (\"Yes\", \"No\") labels have a random relationship to\n",
    "the treatment labels (\"HDV\", \"PLAC\")\n",
    "\n",
    "To reconstruct a data table for these 16 monkeys, we first build the 16 labels\n",
    "for treatment."
   ]
  },
  {
   "cell_type": "code",
   "execution_count": null,
   "id": "04bd32fd",
   "metadata": {},
   "outputs": [],
   "source": [
    "# Run this cell.\n",
    "# Make the 16 treatment labels.\n",
    "treatment = np.repeat(['HDV', 'PLAC'], [8, 8])\n",
    "treatment"
   ]
  },
  {
   "cell_type": "markdown",
   "id": "626bdfd7",
   "metadata": {},
   "source": [
    "Next we build the 16 labels for virus detected.  These don't have to be in the\n",
    "right order, because we're about to shuffle them anyway.  But they do need to\n",
    "contain the right number of \"Yes\" values and \"No\" values overall.  Fill in the\n",
    "cell below with the correct numbers to create the labels, ready for shuffling."
   ]
  },
  {
   "cell_type": "code",
   "execution_count": null,
   "id": "f742f0f6",
   "metadata": {},
   "outputs": [],
   "source": [
    "#- Make the 16 virus detected labels.\n",
    "#- Look in the list further up to get the right numbers\n",
    "virus_detected = np.repeat(['Yes', 'No'], [..., ...])\n",
    "virus_detected"
   ]
  },
  {
   "cell_type": "code",
   "execution_count": null,
   "id": "26f1c1b1",
   "metadata": {},
   "outputs": [],
   "source": [
    "_ = ok.grade('q_virus_detected')"
   ]
  },
  {
   "cell_type": "markdown",
   "id": "cbeeff60",
   "metadata": {},
   "source": [
    "## A single trial\n",
    "\n",
    "As usual we start with the logic for a single trial.\n",
    "\n",
    "In a single trial, we:\n",
    "\n",
    "* Shuffle (permute) the `virus_detected` labels.\n",
    "* Make a table with the `treatment` and shuffled `virus_detected` labels.\n",
    "* Count the number of rows that have both of the labels \"PLAC\" and \"Yes\".\n",
    "\n",
    "This is one estimate what number we would expect if the association of the\n",
    "treatment label and the virus detected label is random.\n",
    "\n",
    "Let's do the shuffling:"
   ]
  },
  {
   "cell_type": "code",
   "execution_count": null,
   "id": "7346e1db",
   "metadata": {},
   "outputs": [],
   "source": [
    "# Run this cell.\n",
    "shuffled_virus = np.random.permutation(virus_detected)\n",
    "shuffled_virus"
   ]
  },
  {
   "cell_type": "markdown",
   "id": "02e7348a",
   "metadata": {},
   "source": [
    "Next, make a new table, with the shuffled labels:"
   ]
  },
  {
   "cell_type": "code",
   "execution_count": null,
   "id": "3528f704",
   "metadata": {},
   "outputs": [],
   "source": [
    "# Run this cell.\n",
    "shuffled_tab = pd.crosstab(treatment, shuffled_virus)\n",
    "shuffled_tab"
   ]
  },
  {
   "cell_type": "markdown",
   "id": "ec75f08a",
   "metadata": {},
   "source": [
    "Last, we use our advanced Pandas indexing with `loc` to check the count for\n",
    "\"PLAC\" and \"Yes\"."
   ]
  },
  {
   "cell_type": "code",
   "execution_count": null,
   "id": "839389e4",
   "metadata": {},
   "outputs": [],
   "source": [
    "# Run this cell.\n",
    "plac_yes = shuffled_tab.loc['PLAC', 'Yes']\n",
    "plac_yes"
   ]
  },
  {
   "cell_type": "markdown",
   "id": "cbbdca3e",
   "metadata": {},
   "source": [
    "Now your turn.  Use a `for` loop to simulate 1000 samples of the \"PLAC\" with\n",
    "\"Yes\" count, when the association between treatment and virus detected labels\n",
    "is random.  Store the values from these counts in a variable\n",
    "`plac_yes_counts`.\n",
    "\n",
    "**Careful**: don't do 10000 samples, as we normally do - it will take too\n",
    "long."
   ]
  },
  {
   "cell_type": "code",
   "execution_count": null,
   "id": "f1a5d526",
   "metadata": {},
   "outputs": [],
   "source": [
    "#- Use the single trial logic in a for loop to build up the sampling\n",
    "#- distribution of the \"PLAC\" with \"Yes\" counts.\n",
    "plac_yes_counts = ...\n",
    "# Show the first ten values from the counts.\n",
    "plac_yes_counts[:10]"
   ]
  },
  {
   "cell_type": "code",
   "execution_count": null,
   "id": "05cfb689",
   "metadata": {},
   "outputs": [],
   "source": [
    "_ = ok.grade('q_plac_yes_counts')"
   ]
  },
  {
   "cell_type": "markdown",
   "id": "f9d3f808",
   "metadata": {},
   "source": [
    "Make a histogram of these counts:"
   ]
  },
  {
   "cell_type": "code",
   "execution_count": null,
   "id": "8130c086",
   "metadata": {},
   "outputs": [],
   "source": [
    "#- Do a histogram of the counts.\n",
    "..."
   ]
  },
  {
   "cell_type": "markdown",
   "id": "9e8912e8",
   "metadata": {},
   "source": [
    "Calculate the proportion of the counts that were greater than or equal to the observed value, in the real world, of \"PLAC\" with \"Yes\".  Store the proportion as `p_ge_observed`."
   ]
  },
  {
   "cell_type": "code",
   "execution_count": null,
   "id": "07ed5a57",
   "metadata": {},
   "outputs": [],
   "source": [
    "#- Calculate the proportion of the sampling distribution with values equal to\n",
    "#- or greater than the observed value.\n",
    "p_ge_observed = ...\n",
    "# Show the value.\n",
    "p_ge_observed"
   ]
  },
  {
   "cell_type": "code",
   "execution_count": null,
   "id": "c70eb7e2",
   "metadata": {},
   "outputs": [],
   "source": [
    "_ = ok.grade('q_p_ge_observed')"
   ]
  },
  {
   "cell_type": "markdown",
   "id": "76c88af8",
   "metadata": {},
   "source": [
    "What do you think?  Are you convinced by the difference between Placebo and the\n",
    "high-dose vaccine, just based on these data?"
   ]
  },
  {
   "cell_type": "markdown",
   "id": "05afe5d3",
   "metadata": {},
   "source": [
    "## Done.\n",
    "\n",
    "Congratulations, you're done with the assignment!  Be sure to:\n",
    "\n",
    "- **run all the tests** (the next cell has a shortcut for that).\n",
    "- **Save and Checkpoint** from the `File` menu."
   ]
  },
  {
   "cell_type": "code",
   "execution_count": null,
   "id": "369ab57e",
   "metadata": {},
   "outputs": [],
   "source": [
    "# For your convenience, you can run this cell to run all the tests at once!\n",
    "import os\n",
    "_ = [ok.grade(q[:-3]) for q in os.listdir(\"tests\") if q.startswith('q')]"
   ]
  }
 ],
 "metadata": {
  "jupytext": {
   "notebook_metadata_filter": "all,-language_info",
   "split_at_heading": true,
   "text_representation": {
    "extension": ".Rmd",
    "format_name": "rmarkdown",
    "format_version": "1.1",
    "jupytext_version": "1.2.4"
   }
  },
  "kernelspec": {
   "display_name": "Python 3",
   "language": "python",
   "name": "python3"
  }
 },
 "nbformat": 4,
 "nbformat_minor": 5
}
